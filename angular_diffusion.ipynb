{
 "cells": [
  {
   "cell_type": "code",
   "execution_count": null,
   "id": "1ffb447c-96c8-4fc8-80a4-26049025e5b7",
   "metadata": {},
   "outputs": [],
   "source": [
    "\n",
    "\n",
    "###### HI HELLO\n",
    "import numpy as np # fast array library\n",
    "import pandas as pd # data frames library\n",
    "from pandas_ods_reader import read_ods #read ods tables\n",
    "\n",
    "import matplotlib \n",
    "import matplotlib.pyplot as plt # plot library\n",
    "import matplotlib.gridspec as gridspec\n",
    " \n",
    "import subprocess # these 2 lines below load OS functionality\n",
    "import sys\n",
    "import json\n",
    "import warnings\n",
    "\n",
    "from IPython.display import display, HTML # screen on display in HTML library \n",
    "\n",
    "import sympy as sp # symbolic calculation library functions\n",
    "from sympy import var # symbolic calculation library variables\n",
    "\n",
    "import mpmath as mp # double (or higher) floating point precision library (not used)\n",
    "\n",
    "import scipy.constants as ct # import mathematical constants\n",
    "import scipy.special as spec\n",
    "from scipy.spatial import Voronoi, voronoi_plot_2d # import Voronoi functions\n",
    "import scipy.optimize as optimize # optimazation library (not used)\n",
    "from scipy import signal # noise filtering functions\n",
    "from scipy import stats # statistics, for binning and fields calculation\n",
    "from scipy.spatial import Voronoi, voronoi_plot_2d # import Voronoi functions\n",
    "\n",
    "\n",
    "import ipywidgets as widgets # import \n",
    "\n",
    "from collections import Counter # (not used)\n",
    "import time # timing functions (for computation time)\n",
    "\n",
    "global iscaled \n",
    "iscaled = 0\n",
    "\n",
    "global LX, LY\n",
    "LX = 1000 -250\n",
    "LY = 650-50\n",
    "\n",
    "# system size for a given (npart, rho) configuration\n",
    "def L(npart, rho):\n",
    "    l = np.sqrt(npart*2*np.sqrt(3.)/rho)\n",
    "    return l\n",
    "\n",
    "# print progress function\n",
    "# more elegant (python 3 alternative): print('\\rhello', end='',flush=True)\n",
    "def printp(string):\n",
    "    sys.stdout.write('\\r'+ str(string))\n",
    "    sys.stdout.flush()\n",
    "    \n",
    "#from __future__ import print_function\n",
    "\n",
    "# Text format for figures configuration (lines below)\n",
    "from matplotlib import rc\n",
    "rc('font',**{'family':'sans-serif','sans-serif':['Helvetica']})\n",
    "#rc('font',**{'family':'serif','serif':['Times']})\n",
    "#rc('text', usetex=True)\n",
    "\n"
   ]
  },
  {
   "cell_type": "code",
   "execution_count": 1,
   "id": "89149d03-057d-4c09-9dd1-84f040829da1",
   "metadata": {
    "tags": []
   },
   "outputs": [
    {
     "name": "stdout",
     "output_type": "stream",
     "text": [
      "Available matplotlib backends: ['tk', 'gtk', 'gtk3', 'gtk4', 'wx', 'qt4', 'qt5', 'qt6', 'qt', 'osx', 'nbagg', 'webagg', 'notebook', 'agg', 'svg', 'pdf', 'ps', 'inline', 'ipympl', 'widget']\n"
     ]
    }
   ],
   "source": [
    "%matplotlib --list"
   ]
  },
  {
   "cell_type": "code",
   "execution_count": 4,
   "id": "ebffc412-b8a6-43ec-b3f9-32a63a4fd25c",
   "metadata": {
    "tags": []
   },
   "outputs": [],
   "source": [
    "# matplotlib widgets interface\n",
    "%matplotlib widget"
   ]
  },
  {
   "cell_type": "markdown",
   "id": "bb28fa95-d57f-4227-bb09-644f0251b6c3",
   "metadata": {},
   "source": [
    "\n",
    "# _Read tracking data_\n",
    "\n",
    "We explain the action of each of these functions below:\n",
    "\n",
    "__get_info(hash_prefix)__ Reads and prints info file with hash prefix hash code. See output table in RUN CELL 0 below to grasp the info structure\n",
    "\n",
    "__simple_pickle_read(hash_prefix) :__ This 'simple_pickle_read' takes a pkl.xz file hash prefix hash code, and which contains xy positions and tracks (no velocities) and stores in 'tabla' pandas data frame.\n",
    "\n",
    "* input: hash_prefix\n",
    "* output: global variable Ntracks (number of tracks)\n",
    "\n",
    "\n",
    "\n"
   ]
  },
  {
   "cell_type": "code",
   "execution_count": 7,
   "id": "2055e4b6-9c2a-4ec4-92eb-dc878aacda92",
   "metadata": {
    "tags": []
   },
   "outputs": [],
   "source": [
    "def pdisplay(info):\n",
    "    display(HTML(info.to_html()))\n",
    "\n",
    "# This function reads pickle binary file (.pkl) with trajectories\n",
    "def get_info(series_directory, hash_prefix, silent):\n",
    "    global info\n",
    "    nombre = '/home/fvega/Datos/blades/' + series_directory + '/info/'  + hash_prefix + '.txt'\n",
    "    with open(nombre) as f:\n",
    "        jsonstr = json.load(f)\n",
    "    info = pd.json_normalize(jsonstr)\n",
    "    if silent==False:\n",
    "        pdisplay(info.T)\n",
    "    return info\n",
    "    \n",
    "def simple_pickle_read(series_directory, hash_prefix):\n",
    "    global Nframes, Ntracks\n",
    "    # Read table in pickle format\n",
    "    nombre = '/home/fvega/Datos/' + series_directory +  hash_prefix \\\n",
    "       + '_w.pkl.xz'\n",
    "    tabla = pd.read_pickle(nombre, compression='infer')\n",
    "    tabla = tabla.reset_index(drop=True) # por si los indices salen desordenados\n",
    "    Nframes = np.max(tabla.frame)\n",
    "    Ntracks = np.max(tabla.track)+1\n",
    "    tabla = tabla.sort_values(by = ['frame', 'track']).reset_index(drop=True)\n",
    "    return tabla"
   ]
  },
  {
   "cell_type": "code",
   "execution_count": null,
   "id": "fbb1cd33-f0d7-433f-8178-c2a31f7bf5ed",
   "metadata": {},
   "outputs": [],
   "source": []
  }
 ],
 "metadata": {
  "kernelspec": {
   "display_name": "Python 3 (ipykernel)",
   "language": "python",
   "name": "python3"
  },
  "language_info": {
   "codemirror_mode": {
    "name": "ipython",
    "version": 3
   },
   "file_extension": ".py",
   "mimetype": "text/x-python",
   "name": "python",
   "nbconvert_exporter": "python",
   "pygments_lexer": "ipython3",
   "version": "3.10.9"
  },
  "widgets": {
   "application/vnd.jupyter.widget-state+json": {
    "state": {},
    "version_major": 2,
    "version_minor": 0
   }
  }
 },
 "nbformat": 4,
 "nbformat_minor": 5
}
